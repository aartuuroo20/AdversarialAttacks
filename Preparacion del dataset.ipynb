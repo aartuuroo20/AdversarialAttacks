{
  "cells": [
    {
      "cell_type": "code",
      "execution_count": 1,
      "metadata": {
        "id": "gDOa1J6bxU9f"
      },
      "outputs": [],
      "source": [
        "import torch\n",
        "import torch.nn as nn\n",
        "import torch.optim as optim\n",
        "import torchvision\n",
        "import torchvision.models as models\n",
        "import torchvision.transforms as transforms"
      ]
    },
    {
      "cell_type": "code",
      "execution_count": 2,
      "metadata": {},
      "outputs": [
        {
          "name": "stdout",
          "output_type": "stream",
          "text": [
            "Usando: cuda\n"
          ]
        }
      ],
      "source": [
        "# Activar optimización en GPU\n",
        "torch.backends.cudnn.benchmark = True\n",
        "\n",
        "# Configurar GPU o CPU\n",
        "device = torch.device(\"cuda\" if torch.cuda.is_available() else \"cpu\")\n",
        "print(f\"Usando: {device}\")\n",
        "\n",
        "# Transformaciones para CIFAR-10 (ajustado a 224x224 para ResNet-50)\n",
        "transform = transforms.Compose([\n",
        "    transforms.Resize(224),\n",
        "    transforms.ToTensor(),\n",
        "    transforms.Normalize((0.5, 0.5, 0.5), (0.5, 0.5, 0.5))\n",
        "])"
      ]
    },
    {
      "cell_type": "code",
      "execution_count": 3,
      "metadata": {},
      "outputs": [
        {
          "name": "stdout",
          "output_type": "stream",
          "text": [
            "Downloading https://www.cs.toronto.edu/~kriz/cifar-10-python.tar.gz to ./data\\cifar-10-python.tar.gz\n"
          ]
        },
        {
          "name": "stderr",
          "output_type": "stream",
          "text": [
            "100.0%\n"
          ]
        },
        {
          "name": "stdout",
          "output_type": "stream",
          "text": [
            "Extracting ./data\\cifar-10-python.tar.gz to ./data\n",
            "Files already downloaded and verified\n"
          ]
        },
        {
          "name": "stderr",
          "output_type": "stream",
          "text": [
            "c:\\Users\\artur\\AppData\\Local\\Programs\\Python\\Python39\\lib\\site-packages\\torchvision\\models\\_utils.py:208: UserWarning: The parameter 'pretrained' is deprecated since 0.13 and may be removed in the future, please use 'weights' instead.\n",
            "  warnings.warn(\n",
            "c:\\Users\\artur\\AppData\\Local\\Programs\\Python\\Python39\\lib\\site-packages\\torchvision\\models\\_utils.py:223: UserWarning: Arguments other than a weight enum or `None` for 'weights' are deprecated since 0.13 and may be removed in the future. The current behavior is equivalent to passing `weights=ResNet50_Weights.IMAGENET1K_V1`. You can also use `weights=ResNet50_Weights.DEFAULT` to get the most up-to-date weights.\n",
            "  warnings.warn(msg)\n"
          ]
        }
      ],
      "source": [
        "# Cargar datos de entrenamiento y prueba (ajustando batch_size según GPU)\n",
        "batch_size = 128 \n",
        "\n",
        "trainset = torchvision.datasets.CIFAR10(root='./data', train=True, download=True, transform=transform)\n",
        "trainloader = torch.utils.data.DataLoader(trainset, batch_size=batch_size, shuffle=True, num_workers=4, pin_memory=True)\n",
        "\n",
        "testset = torchvision.datasets.CIFAR10(root='./data', train=False, download=True, transform=transform)\n",
        "testloader = torch.utils.data.DataLoader(testset, batch_size=batch_size, shuffle=False, num_workers=4, pin_memory=True)\n",
        "\n",
        "# Clases de CIFAR-10\n",
        "classes = ('airplane', 'automobile', 'bird', 'cat', 'deer', 'dog', 'frog', 'horse', 'ship', 'truck')\n",
        "\n",
        "# Cargar modelo ResNet-50 preentrenado y modificar la última capa para 10 clases\n",
        "resnet50 = models.resnet50(pretrained=True)\n",
        "num_ftrs = resnet50.fc.in_features\n",
        "resnet50.fc = nn.Linear(num_ftrs, 10)\n",
        "resnet50 = resnet50.to(device)"
      ]
    },
    {
      "cell_type": "code",
      "execution_count": 4,
      "metadata": {},
      "outputs": [
        {
          "name": "stderr",
          "output_type": "stream",
          "text": [
            "C:\\Users\\artur\\AppData\\Local\\Temp\\ipykernel_17056\\1017043375.py:7: FutureWarning: `torch.cuda.amp.GradScaler(args...)` is deprecated. Please use `torch.amp.GradScaler('cuda', args...)` instead.\n",
            "  scaler = torch.cuda.amp.GradScaler()  # Para aceleración con AMP\n",
            "C:\\Users\\artur\\AppData\\Local\\Temp\\ipykernel_17056\\1017043375.py:20: FutureWarning: `torch.cuda.amp.autocast(args...)` is deprecated. Please use `torch.amp.autocast('cuda', args...)` instead.\n",
            "  with torch.cuda.amp.autocast():\n"
          ]
        },
        {
          "name": "stdout",
          "output_type": "stream",
          "text": [
            "🔹 Época 1, Pérdida: 0.6155\n",
            "🔹 Época 2, Pérdida: 0.3621\n",
            "🔹 Época 3, Pérdida: 0.2769\n",
            "🔹 Época 4, Pérdida: 0.2073\n",
            "🔹 Época 5, Pérdida: 0.1701\n",
            "🔹 Época 6, Pérdida: 0.1447\n",
            "🔹 Época 7, Pérdida: 0.1104\n",
            "🔹 Época 8, Pérdida: 0.0930\n",
            "🔹 Época 9, Pérdida: 0.0797\n",
            "🔹 Época 10, Pérdida: 0.0743\n",
            "Entrenamiento completado\n"
          ]
        }
      ],
      "source": [
        "# Definir función de pérdida y optimizador\n",
        "criterion = nn.CrossEntropyLoss()\n",
        "optimizer = optim.Adam(resnet50.parameters(), lr=0.001)\n",
        "\n",
        "# Entrenamiento con GPU y Mixed Precision (AMP)\n",
        "num_epochs = 10\n",
        "scaler = torch.cuda.amp.GradScaler()  # Para aceleración con AMP\n",
        "\n",
        "for epoch in range(num_epochs):\n",
        "    running_loss = 0.0\n",
        "    resnet50.train()  # Modo entrenamiento\n",
        "\n",
        "    for inputs, labels in trainloader:\n",
        "        inputs, labels = inputs.to(device, non_blocking=True), labels.to(device, non_blocking=True)\n",
        "\n",
        "        # Reiniciar gradientes\n",
        "        optimizer.zero_grad()\n",
        "\n",
        "        # Usar AMP para entrenar más rápido en GPU\n",
        "        with torch.cuda.amp.autocast():\n",
        "            outputs = resnet50(inputs)\n",
        "            loss = criterion(outputs, labels)\n",
        "\n",
        "        # Escalar el gradiente para evitar underflow\n",
        "        scaler.scale(loss).backward()\n",
        "        scaler.step(optimizer)\n",
        "        scaler.update()\n",
        "\n",
        "        running_loss += loss.item()\n",
        "\n",
        "    print(f\"🔹 Época {epoch+1}, Pérdida: {running_loss / len(trainloader):.4f}\")\n",
        "\n",
        "print(\"Entrenamiento completado\")"
      ]
    },
    {
      "cell_type": "code",
      "execution_count": 5,
      "metadata": {},
      "outputs": [
        {
          "name": "stdout",
          "output_type": "stream",
          "text": [
            "Modelo guardado correctamente\n"
          ]
        }
      ],
      "source": [
        "# Guardar el modelo entrenado\n",
        "torch.save(resnet50.state_dict(), \"CIFAR10_resnet50.pth\")\n",
        "print(\"Modelo guardado correctamente\")"
      ]
    }
  ],
  "metadata": {
    "colab": {
      "provenance": []
    },
    "kernelspec": {
      "display_name": "Python 3",
      "name": "python3"
    },
    "language_info": {
      "codemirror_mode": {
        "name": "ipython",
        "version": 3
      },
      "file_extension": ".py",
      "mimetype": "text/x-python",
      "name": "python",
      "nbconvert_exporter": "python",
      "pygments_lexer": "ipython3",
      "version": "3.9.13"
    }
  },
  "nbformat": 4,
  "nbformat_minor": 0
}
